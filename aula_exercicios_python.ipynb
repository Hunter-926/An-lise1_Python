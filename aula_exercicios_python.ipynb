{
  "cells": [
    {
      "cell_type": "markdown",
      "id": "7b6db2c9",
      "metadata": {
        "id": "7b6db2c9"
      },
      "source": [
        "## Exercício 1: Verifique se um número é positivo, negativo ou zero."
      ]
    },
    {
      "cell_type": "code",
      "source": [
        "num = int(input('Digite um número: '))\n",
        "if num > 0:\n",
        "  print('Positivo')\n",
        "elif num < 0:\n",
        "  print('Negativo')\n",
        "else:\n",
        "  print('Zero')\n"
      ],
      "metadata": {
        "colab": {
          "base_uri": "https://localhost:8080/"
        },
        "id": "VYyC430JpYf_",
        "outputId": "f15ff11f-3c23-4531-b8df-42f3f3a0cf42"
      },
      "id": "VYyC430JpYf_",
      "execution_count": null,
      "outputs": [
        {
          "output_type": "stream",
          "name": "stdout",
          "text": [
            "Digite um número: 21\n",
            "Positivo\n"
          ]
        }
      ]
    },
    {
      "cell_type": "markdown",
      "source": [
        "Defina um número\n",
        "Se o número for maior ou igual a 0, traga o resultado: Positivo\n",
        "Se o número for menor ou igual a 0, traga o resultado: Negativo\n",
        "Se o número for igual a 0, traga o resultado: Zero"
      ],
      "metadata": {
        "id": "5P7ENleMhJHx"
      },
      "id": "5P7ENleMhJHx"
    },
    {
      "cell_type": "markdown",
      "id": "70afdbb7",
      "metadata": {
        "id": "70afdbb7"
      },
      "source": [
        "## Exercício 2: Peça dois números e exiba o maior."
      ]
    },
    {
      "cell_type": "code",
      "source": [
        "num1 = int(input('Digite o primeiro número: '))\n",
        "num2 = int(input('Digite o segundo número: '))\n",
        "\n",
        "if num1 > num2:\n",
        "  print('O número maior é: ', num1)\n",
        "elif num1 == num2:\n",
        "  print('Os números são iguais.')\n",
        "else :\n",
        "  print('O número maior é: ', num2)\n"
      ],
      "metadata": {
        "colab": {
          "base_uri": "https://localhost:8080/"
        },
        "id": "NhP8MM5-xjnJ",
        "outputId": "fcfa2bc8-554c-47e3-8e5f-c078657e25fc"
      },
      "id": "NhP8MM5-xjnJ",
      "execution_count": null,
      "outputs": [
        {
          "output_type": "stream",
          "name": "stdout",
          "text": [
            "Digite o primeiro número: 11\n",
            "Digite o segundo número: 19\n",
            "O número maior é:  19\n"
          ]
        }
      ]
    },
    {
      "cell_type": "markdown",
      "source": [
        "Defina dois números diferentes sempre que solicitado, e exiba o maior valor."
      ],
      "metadata": {
        "id": "TlKNM1dTiHNj"
      },
      "id": "TlKNM1dTiHNj"
    },
    {
      "cell_type": "markdown",
      "id": "36fc3988",
      "metadata": {
        "id": "36fc3988"
      },
      "source": [
        "## Exercício 3: Verifique se um número é par ou ímpar."
      ]
    },
    {
      "cell_type": "code",
      "source": [
        "num1 = int(input('Digite um número: '))\n",
        "\n",
        "if num1 % 2 == 0:\n",
        "  print('Par')\n",
        "else:\n",
        "  print('Ímpar')\n",
        "\n"
      ],
      "metadata": {
        "colab": {
          "base_uri": "https://localhost:8080/"
        },
        "id": "M_hASBWPz9xb",
        "outputId": "b0ea520b-1e59-412c-ad56-1fc7901167de"
      },
      "id": "M_hASBWPz9xb",
      "execution_count": null,
      "outputs": [
        {
          "output_type": "stream",
          "name": "stdout",
          "text": [
            "Digite um número: 55\n",
            "Ímpar\n"
          ]
        }
      ]
    },
    {
      "cell_type": "markdown",
      "source": [
        "Defina um Número\n",
        "Se o número terminar com: 0,2,4,6 ou 8, traga o resultado: Par\n",
        "Se O número terminar com: 1,3,5,7 ou 9, traga o resultado: Impar"
      ],
      "metadata": {
        "id": "7zkT5yE4i8Q8"
      },
      "id": "7zkT5yE4i8Q8"
    },
    {
      "cell_type": "markdown",
      "id": "f0288374",
      "metadata": {
        "id": "f0288374"
      },
      "source": [
        "## Exercício 4: Verifique se um ano é bissexto."
      ]
    },
    {
      "cell_type": "code",
      "source": [
        "ano = int(input('Digite um ano com 4 dígitos: '))\n",
        "\n",
        "if (ano % 4 == 0 and ano % 100 != 0) or ano % 400 == 0:\n",
        "  print('É bissexto.')\n",
        "else:\n",
        "  print('Não é bissexto.')\n"
      ],
      "metadata": {
        "colab": {
          "base_uri": "https://localhost:8080/"
        },
        "id": "Vrz02xAA2hzc",
        "outputId": "c8bef6b9-5a85-452d-940a-99a2579b20c4"
      },
      "id": "Vrz02xAA2hzc",
      "execution_count": null,
      "outputs": [
        {
          "output_type": "stream",
          "name": "stdout",
          "text": [
            "Digite um ano com 4 dígitos: 2024\n",
            "É bissexto.\n"
          ]
        }
      ]
    },
    {
      "cell_type": "markdown",
      "source": [
        "Defina um valor de um ano e calcule, se for divisivel por 4 e por 100 mas não por 400. Será um ano bissexto."
      ],
      "metadata": {
        "id": "5HEPrAlekAno"
      },
      "id": "5HEPrAlekAno"
    },
    {
      "cell_type": "markdown",
      "id": "970dae23",
      "metadata": {
        "id": "970dae23"
      },
      "source": [
        "## Exercício 5: Peça três números e exiba o maior."
      ]
    },
    {
      "cell_type": "code",
      "source": [
        "num1 = int(input('Digite o primeiro número: '))\n",
        "num2 = int(input('Digite o segundo número: '))\n",
        "num3 = int(input('Digite o terceiro número: '))\n",
        "print('O maior número é ', max(num1, num2, num3))\n"
      ],
      "metadata": {
        "colab": {
          "base_uri": "https://localhost:8080/"
        },
        "id": "pxCjukmM5QzG",
        "outputId": "28d5605e-9e5f-4b75-f517-ed7e889912e9"
      },
      "id": "pxCjukmM5QzG",
      "execution_count": null,
      "outputs": [
        {
          "output_type": "stream",
          "name": "stdout",
          "text": [
            "Digite o primeiro número: 5\n",
            "Digite o segundo número: 3\n",
            "Digite o terceiro número: 6\n",
            "O maior número é  6\n"
          ]
        }
      ]
    },
    {
      "cell_type": "code",
      "source": [],
      "metadata": {
        "id": "G-RlBAVz9C2s"
      },
      "id": "G-RlBAVz9C2s",
      "execution_count": null,
      "outputs": []
    },
    {
      "cell_type": "markdown",
      "id": "f7950b6a",
      "metadata": {
        "id": "f7950b6a"
      },
      "source": [
        "## Exercício 6: Verifique se um usuário pode votar (idade >= 18)."
      ]
    },
    {
      "cell_type": "code",
      "source": [
        "num = int(input('Digite a idade: '))\n",
        "\n",
        "if num >= 18:\n",
        "  print('Pode votar!')\n",
        "else:\n",
        "  print('Não pode votar.')"
      ],
      "metadata": {
        "colab": {
          "base_uri": "https://localhost:8080/"
        },
        "id": "rNDPY_Jt8kBl",
        "outputId": "b355496a-a220-4d5d-d9c5-a0960b726b76"
      },
      "id": "rNDPY_Jt8kBl",
      "execution_count": null,
      "outputs": [
        {
          "output_type": "stream",
          "name": "stdout",
          "text": [
            "Digite a sua idade: 19\n",
            "Pode votar!\n"
          ]
        }
      ]
    },
    {
      "cell_type": "markdown",
      "source": [
        "## Exercício 7: Verifique se já posso ir embora da aula de Análise de Dados sem assinar a folha."
      ],
      "metadata": {
        "id": "vI3rAnHNMp8m"
      },
      "id": "vI3rAnHNMp8m"
    },
    {
      "cell_type": "code",
      "source": [
        "from datetime import datetime, time\n",
        "\n",
        "print(datetime.now().time())\n",
        "if datetime.now().time() >= time(00,45,0):\n",
        "  print('Pode')\n",
        "else:\n",
        "  print('Não pode')\n"
      ],
      "metadata": {
        "colab": {
          "base_uri": "https://localhost:8080/"
        },
        "id": "NKZszTVf9kHj",
        "outputId": "f18e47be-69a1-49a8-e5c7-65cd85450833"
      },
      "id": "NKZszTVf9kHj",
      "execution_count": null,
      "outputs": [
        {
          "output_type": "stream",
          "name": "stdout",
          "text": [
            "21:10:12.058707\n",
            "Pode\n"
          ]
        }
      ]
    },
    {
      "cell_type": "markdown",
      "id": "d6b4f5ae",
      "metadata": {
        "id": "d6b4f5ae"
      },
      "source": [
        "## Exercício 8: Verifique se uma senha digitada corresponde a '1234'."
      ]
    },
    {
      "cell_type": "code",
      "source": [
        "num = (input('Digite uma senha: '))\n",
        "\n",
        "if num == '1234':\n",
        "  print('Autorizado')\n",
        "else:\n",
        "  print('Autorização negada!')"
      ],
      "metadata": {
        "colab": {
          "base_uri": "https://localhost:8080/"
        },
        "id": "FjU2T1unccZw",
        "outputId": "18122c4f-cc04-456b-e50f-81d68a58314c"
      },
      "id": "FjU2T1unccZw",
      "execution_count": null,
      "outputs": [
        {
          "output_type": "stream",
          "name": "stdout",
          "text": [
            "Digite uma senha: 1234\n",
            "Autorizado\n"
          ]
        }
      ]
    },
    {
      "cell_type": "markdown",
      "id": "b3b40b44",
      "metadata": {
        "id": "b3b40b44"
      },
      "source": [
        "## Exercício 9: Verifique se um número está entre 10 e 50."
      ]
    },
    {
      "cell_type": "code",
      "source": [
        "num = int(input('Digite um valor de 2 dígitos: '))\n",
        "\n",
        "if num > 10 and num < 50:\n",
        "  print('Certo')\n",
        "else:\n",
        "  print('Errado')"
      ],
      "metadata": {
        "colab": {
          "base_uri": "https://localhost:8080/"
        },
        "id": "BU4B7AyKdjNy",
        "outputId": "dedb0a2c-a2b0-4ed5-e778-2b659efafa36"
      },
      "id": "BU4B7AyKdjNy",
      "execution_count": null,
      "outputs": [
        {
          "output_type": "stream",
          "name": "stdout",
          "text": [
            "Digite um valor de 2 dígitos: 45\n",
            "Certo\n"
          ]
        }
      ]
    },
    {
      "cell_type": "markdown",
      "id": "026219a5",
      "metadata": {
        "id": "026219a5"
      },
      "source": [
        "## Exercício 10: Peça ao usuário um número e exiba 'Alto' se for maior que 100 e 'Baixo' se for menor."
      ]
    },
    {
      "cell_type": "code",
      "source": [
        "num = int(input('Digite um valor: '))\n",
        "\n",
        "if num > 100:\n",
        "  print('Alto')\n",
        "else:\n",
        "  print('Baixo')"
      ],
      "metadata": {
        "colab": {
          "base_uri": "https://localhost:8080/"
        },
        "id": "8lLYAZNxhngo",
        "outputId": "3a9a5ca1-5619-4e90-9b0d-4bbad3ddfb43"
      },
      "id": "8lLYAZNxhngo",
      "execution_count": null,
      "outputs": [
        {
          "output_type": "stream",
          "name": "stdout",
          "text": [
            "Digite um valor: 101\n",
            "Alto\n"
          ]
        }
      ]
    },
    {
      "cell_type": "markdown",
      "id": "d329e93a",
      "metadata": {
        "id": "d329e93a"
      },
      "source": [
        "## Exercício 11: Crie um menu onde o usuário pode escolher entre somar, subtrair, multiplicar e dividir dois números."
      ]
    },
    {
      "cell_type": "code",
      "source": [
        "def operacao(op, a, b):\n",
        "  return{\n",
        "      '1': a + b,\n",
        "      '2': a - b,\n",
        "      '3': a * b,\n",
        "      '4': a / b if b != 0 else 'Divisão por zero não aceita.'\n",
        "  }.get(op, 'Operação inválida')\n",
        "\n",
        "op = input('Escolha: 1-Soma, 2-Sub, 3-Multi, 4-Div: ')\n",
        "#a,b = map(int, input('Digite dois números: ').split()) separa os valores que serão inseridos para A e B\n",
        "a = int(input('Digite dois números: '))\n",
        "b = int(input('Digite dois números: '))\n",
        "print('Resultado: ', operacao (op, a, b))"
      ],
      "metadata": {
        "colab": {
          "base_uri": "https://localhost:8080/"
        },
        "id": "dj--z_13lk76",
        "outputId": "6817e5a4-b06c-4677-a154-b072124346a6"
      },
      "id": "dj--z_13lk76",
      "execution_count": null,
      "outputs": [
        {
          "output_type": "stream",
          "name": "stdout",
          "text": [
            "Escolha: 1-Soma, 2-Sub, 3-Multi, 4-Div: 2\n",
            "Digite dois números: 2\n",
            "Digite dois números: 1\n",
            "Resultado:  1\n"
          ]
        }
      ]
    },
    {
      "cell_type": "markdown",
      "id": "185590d4",
      "metadata": {
        "id": "185590d4"
      },
      "source": [
        "## Exercício 12: Crie um menu para converter temperaturas entre Celsius, Fahrenheit e Kelvin."
      ]
    },
    {
      "cell_type": "code",
      "source": [
        "def converter(op, t):\n",
        "  return{\n",
        "      '1': (t*9/5)+32,\n",
        "      '2': t+273.15,\n",
        "      '3': (5/9)*(t-32),\n",
        "      '4': t*1.8-459.67,\n",
        "      '5': t+273.15,\n",
        "      '6': (t-273.15)*1.8+32\n",
        "  }.get(op, 'Opção inválida')\n",
        "\n",
        "op = input('Digite a conversão desejada: 1-Cel./Fah., 2-Cel./Kel., 3-Fah./Cel., 4-Fah./Kel., 5-Kel./Cel., 6-Kel./Fah.: ')\n",
        "t = float(input('Digite a temperatura de acordo com o valor selecionado acima: '))\n",
        "print('Temperatura convertida: ', converter(op, t))\n"
      ],
      "metadata": {
        "colab": {
          "base_uri": "https://localhost:8080/"
        },
        "id": "O7SkhNUlscfD",
        "outputId": "a2cfaaad-e9bf-44c8-cfb5-ec66eda54d01"
      },
      "id": "O7SkhNUlscfD",
      "execution_count": null,
      "outputs": [
        {
          "output_type": "stream",
          "name": "stdout",
          "text": [
            "Digite a conversão desejada: 1-Cel./Fah., 2-Cel./Kel., 3-Fah./Cel., 4-Fah./Kel., 5-Kel./Cel., 6-Kel./Fah.: 1\n",
            "Digite a temperatura de acordo com o valor selecionado acima: 20\n",
            "Temperatura convertida:  68.0\n"
          ]
        }
      ]
    },
    {
      "cell_type": "markdown",
      "id": "f8254fda",
      "metadata": {
        "id": "f8254fda"
      },
      "source": [
        "## Exercício 13: Crie um programa que traduza números de 1 a 5 para palavras (1 = um, 2 = dois...)."
      ]
    },
    {
      "cell_type": "code",
      "source": [
        "op = input('Digite um número de 1 a 5: ')\n",
        "print({\n",
        "      '1': 'um',\n",
        "      '2': 'dois',\n",
        "      '3': 'três',\n",
        "      '4': 'quatro',\n",
        "      '5': 'cinco'\n",
        "  }.get(op, 'Opção inválida'))\n"
      ],
      "metadata": {
        "colab": {
          "base_uri": "https://localhost:8080/"
        },
        "id": "-2LUcgUU8epq",
        "outputId": "2f26d057-307c-4de2-e4b3-e289a7d554de"
      },
      "id": "-2LUcgUU8epq",
      "execution_count": null,
      "outputs": [
        {
          "output_type": "stream",
          "name": "stdout",
          "text": [
            "Digite um número de 1 a 5: 2\n",
            "dois\n"
          ]
        }
      ]
    },
    {
      "cell_type": "markdown",
      "id": "1479a2ad",
      "metadata": {
        "id": "1479a2ad"
      },
      "source": [
        "## Exercício 14: Crie um menu onde o usuário pode escolher entre exibir a data, hora ou sair."
      ]
    },
    {
      "cell_type": "code",
      "source": [
        "from datetime import datetime, time, date\n",
        "\n",
        "op = input('1-Data\\n2-Hora\\n3-Sair\\nEscolha uma das opções: ')\n",
        "print({\n",
        "    '1': datetime.now().date(),\n",
        "    '2': datetime.now().time(),\n",
        "    '3': 'Saindo'\n",
        "}.get(op, 'Opção inválida'))\n"
      ],
      "metadata": {
        "colab": {
          "base_uri": "https://localhost:8080/"
        },
        "id": "Hb_7CLcU-h_K",
        "outputId": "372842ee-aeb2-40c3-aeba-6c1cfc3fe205"
      },
      "id": "Hb_7CLcU-h_K",
      "execution_count": null,
      "outputs": [
        {
          "output_type": "stream",
          "name": "stdout",
          "text": [
            "1-Data\n",
            "2-Hora\n",
            "3-Sair\n",
            "Escolha uma das opções: 2\n",
            "23:54:10.913924\n"
          ]
        }
      ]
    },
    {
      "cell_type": "markdown",
      "id": "49ca94fd",
      "metadata": {
        "id": "49ca94fd"
      },
      "source": [
        "## Exercício 15: Implemente um programa que identifica o dia da semana baseado em um número (1 = Segunda, 7 = Domingo)."
      ]
    },
    {
      "cell_type": "code",
      "source": [
        "op = input('Digite um dia da semana: ')\n",
        "print({\n",
        "      '1': 'Segunda',\n",
        "      '2': 'Terça',\n",
        "      '3': 'Quarta',\n",
        "      '4': 'Quinta',\n",
        "      '5': 'Sexta',\n",
        "      '6': 'Sábado',\n",
        "      '7': 'Domingo'\n",
        "  }.get(op, 'Opção inválida'))"
      ],
      "metadata": {
        "colab": {
          "base_uri": "https://localhost:8080/"
        },
        "id": "_ChoIM7rBr18",
        "outputId": "574c779e-8f47-4c3b-eb5e-d348701ff09d"
      },
      "id": "_ChoIM7rBr18",
      "execution_count": null,
      "outputs": [
        {
          "output_type": "stream",
          "name": "stdout",
          "text": [
            "Digite um dia da semana: 5\n",
            "Sexta\n"
          ]
        }
      ]
    },
    {
      "cell_type": "markdown",
      "id": "7f1b4a1e",
      "metadata": {
        "id": "7f1b4a1e"
      },
      "source": [
        "## Exercício 16: Verifique se um número é par ou ímpar usando if ternário."
      ]
    },
    {
      "cell_type": "code",
      "source": [
        "num1 = int(input('Digite um número: '))\n",
        "\n",
        "par_impar = 'par' if num1 % 2 == 0 else 'impar'\n",
        "print(par_impar)"
      ],
      "metadata": {
        "colab": {
          "base_uri": "https://localhost:8080/"
        },
        "id": "p1aa-CTJCmdn",
        "outputId": "f12725be-a6d7-462b-9e35-270eb7604e81"
      },
      "id": "p1aa-CTJCmdn",
      "execution_count": null,
      "outputs": [
        {
          "output_type": "stream",
          "name": "stdout",
          "text": [
            "Digite um número: 25\n",
            "impar\n"
          ]
        }
      ]
    },
    {
      "cell_type": "markdown",
      "id": "4b647778",
      "metadata": {
        "id": "4b647778"
      },
      "source": [
        "## Exercício 17: Verifique se um número é positivo ou negativo usando if ternário."
      ]
    },
    {
      "cell_type": "code",
      "source": [
        "num = int(input('Digite um número: '))\n",
        "\n",
        "pos_neg = 'Positivo' if num > 0 else 'Negativo'\n",
        "print(pos_neg)"
      ],
      "metadata": {
        "colab": {
          "base_uri": "https://localhost:8080/"
        },
        "id": "S56XfoyRE_7E",
        "outputId": "2e547266-5fbe-4662-94e1-31caca1d1227"
      },
      "id": "S56XfoyRE_7E",
      "execution_count": null,
      "outputs": [
        {
          "output_type": "stream",
          "name": "stdout",
          "text": [
            "Digite um número: 20\n",
            "Positivo\n"
          ]
        }
      ]
    },
    {
      "cell_type": "markdown",
      "id": "a6ed0e6f",
      "metadata": {
        "id": "a6ed0e6f"
      },
      "source": [
        "## Exercício 18: Retorne 'Adulto' se a idade for maior ou igual a 18, senão 'Menor de idade'."
      ]
    },
    {
      "cell_type": "code",
      "source": [
        "num = int(input('Informe sua idade: '))\n",
        "\n",
        "m_idade = 'Adulto' if num >= 18 else 'Menor de idade.'\n",
        "print(m_idade)"
      ],
      "metadata": {
        "colab": {
          "base_uri": "https://localhost:8080/"
        },
        "id": "sU6n1JRZGmiO",
        "outputId": "4d464c95-71ac-4075-bf54-fb813deb4cb4"
      },
      "id": "sU6n1JRZGmiO",
      "execution_count": null,
      "outputs": [
        {
          "output_type": "stream",
          "name": "stdout",
          "text": [
            "Informe sua idade: 17\n",
            "Menor de idade.\n"
          ]
        }
      ]
    },
    {
      "cell_type": "markdown",
      "id": "354ae09c",
      "metadata": {
        "id": "354ae09c"
      },
      "source": [
        "## Exercício 19: Verifique se um número é maior que 100 e retorne 'Grande' ou 'Pequeno'."
      ]
    },
    {
      "cell_type": "code",
      "source": [
        "num = int(input('Informe sua número: '))\n",
        "\n",
        "d_maior = 'Grande' if num > 100 else 'Pequeno'\n",
        "print(d_maior)"
      ],
      "metadata": {
        "colab": {
          "base_uri": "https://localhost:8080/"
        },
        "id": "f6-FT_GTHnEf",
        "outputId": "76db07b9-871a-466f-e906-7b4c7a82ee1d"
      },
      "id": "f6-FT_GTHnEf",
      "execution_count": null,
      "outputs": [
        {
          "output_type": "stream",
          "name": "stdout",
          "text": [
            "Informe sua número: 99\n",
            "Pequeno\n"
          ]
        }
      ]
    },
    {
      "cell_type": "markdown",
      "id": "dc89b94f",
      "metadata": {
        "id": "dc89b94f"
      },
      "source": [
        "## Exercício 20: Retorne 'Aprovado' se a nota for maior ou igual a 7, senão 'Reprovado'."
      ]
    },
    {
      "cell_type": "code",
      "source": [
        "num = int(input('Informe sua note: '))\n",
        "\n",
        "m_nota = 'Aprovado' if num >= 7 else 'Reprovado'\n",
        "print(m_nota)"
      ],
      "metadata": {
        "colab": {
          "base_uri": "https://localhost:8080/"
        },
        "id": "VmZqzWBBIEJP",
        "outputId": "99b84259-6043-462c-c4ea-11f135d7203b"
      },
      "id": "VmZqzWBBIEJP",
      "execution_count": null,
      "outputs": [
        {
          "output_type": "stream",
          "name": "stdout",
          "text": [
            "Informe sua note: 6\n",
            "Reprovado\n"
          ]
        }
      ]
    },
    {
      "cell_type": "markdown",
      "id": "58cdaa42",
      "metadata": {
        "id": "58cdaa42"
      },
      "source": [
        "## Exercício 21: Imprima os números de 1 a 10 usando um laço for."
      ]
    },
    {
      "cell_type": "code",
      "source": [
        "for x in range(1,11):\n",
        "  print(x)\n"
      ],
      "metadata": {
        "colab": {
          "base_uri": "https://localhost:8080/"
        },
        "id": "XkZokCT9IZRX",
        "outputId": "f50c839b-4b2c-42ee-fd1d-89f47813e752"
      },
      "id": "XkZokCT9IZRX",
      "execution_count": null,
      "outputs": [
        {
          "output_type": "stream",
          "name": "stdout",
          "text": [
            "1\n",
            "2\n",
            "3\n",
            "4\n",
            "5\n",
            "6\n",
            "7\n",
            "8\n",
            "9\n",
            "10\n"
          ]
        }
      ]
    },
    {
      "cell_type": "markdown",
      "id": "ee76ef90",
      "metadata": {
        "id": "ee76ef90"
      },
      "source": [
        "## Exercício 22: Imprima os números pares de 1 a 20."
      ]
    },
    {
      "cell_type": "code",
      "source": [
        "for x in range(0,21, 2):\n",
        "  if x != 0:\n",
        "    print(x)"
      ],
      "metadata": {
        "colab": {
          "base_uri": "https://localhost:8080/"
        },
        "id": "B1FuqJJBJCRQ",
        "outputId": "5545e81f-ef86-4536-f775-cf329ef4b653"
      },
      "id": "B1FuqJJBJCRQ",
      "execution_count": null,
      "outputs": [
        {
          "output_type": "stream",
          "name": "stdout",
          "text": [
            "2\n",
            "4\n",
            "6\n",
            "8\n",
            "10\n",
            "12\n",
            "14\n",
            "16\n",
            "18\n",
            "20\n"
          ]
        }
      ]
    },
    {
      "cell_type": "markdown",
      "id": "b482d8a2",
      "metadata": {
        "id": "b482d8a2"
      },
      "source": [
        "## Exercício 23: Calcule a soma dos números de 1 a 100."
      ]
    },
    {
      "cell_type": "code",
      "source": [
        "soma = 0\n",
        "for numero in range(1, 101):\n",
        "    soma += numero\n",
        "print(soma)"
      ],
      "metadata": {
        "colab": {
          "base_uri": "https://localhost:8080/"
        },
        "id": "n7X-Lk3iLwVP",
        "outputId": "c839c666-86af-4af0-8f8b-71760b3ecbbf"
      },
      "id": "n7X-Lk3iLwVP",
      "execution_count": null,
      "outputs": [
        {
          "output_type": "stream",
          "name": "stdout",
          "text": [
            "5050\n"
          ]
        }
      ]
    },
    {
      "cell_type": "markdown",
      "id": "07ad69f1",
      "metadata": {
        "id": "07ad69f1"
      },
      "source": [
        "## Exercício 24: Imprima a tabuada do 5."
      ]
    },
    {
      "cell_type": "code",
      "source": [
        "Mult = 5\n",
        "for x in range(1, 11,):\n",
        "  print(f\"{Mult} x {x} = {Mult *x}\")"
      ],
      "metadata": {
        "colab": {
          "base_uri": "https://localhost:8080/"
        },
        "id": "Emd4hLgXgt7b",
        "outputId": "6388ef91-efa5-460b-9153-2f03416d2f33"
      },
      "id": "Emd4hLgXgt7b",
      "execution_count": null,
      "outputs": [
        {
          "output_type": "stream",
          "name": "stdout",
          "text": [
            "5 x 1 = 5\n",
            "5 x 2 = 10\n",
            "5 x 3 = 15\n",
            "5 x 4 = 20\n",
            "5 x 5 = 25\n",
            "5 x 6 = 30\n",
            "5 x 7 = 35\n",
            "5 x 8 = 40\n",
            "5 x 9 = 45\n",
            "5 x 10 = 50\n"
          ]
        }
      ]
    },
    {
      "cell_type": "markdown",
      "id": "f4513a53",
      "metadata": {
        "id": "f4513a53"
      },
      "source": [
        "## Exercício 25: Imprima os 10 primeiros números da sequência de Fibonacci."
      ]
    },
    {
      "cell_type": "code",
      "source": [
        "n = int(input('Quantos números da sequência de Fibonacci você quer ver? '))\n",
        "\n",
        "a, b = 0, 1\n",
        "for x in range(0,n):\n",
        "  print(a)\n",
        "  a, b = b, a +b"
      ],
      "metadata": {
        "colab": {
          "base_uri": "https://localhost:8080/"
        },
        "id": "Czli-K8krDu6",
        "outputId": "186c6cdc-f330-44a8-9a9e-db0819bf7041"
      },
      "id": "Czli-K8krDu6",
      "execution_count": 8,
      "outputs": [
        {
          "output_type": "stream",
          "name": "stdout",
          "text": [
            "Quantos números da sequência de Fibonacci você quer ver? 8\n",
            "0\n",
            "1\n",
            "1\n",
            "2\n",
            "3\n",
            "5\n",
            "8\n",
            "13\n"
          ]
        }
      ]
    },
    {
      "cell_type": "markdown",
      "id": "859ddee6",
      "metadata": {
        "id": "859ddee6"
      },
      "source": [
        "## Exercício 26: Percorra uma string e imprima cada caractere."
      ]
    },
    {
      "cell_type": "code",
      "source": [
        "texto = (input('Escreva uma palavra: '))\n",
        "\n",
        "for caracter in texto:\n",
        "  print(caracter)"
      ],
      "metadata": {
        "colab": {
          "base_uri": "https://localhost:8080/"
        },
        "id": "Qv9BLAgPJSN9",
        "outputId": "c0aca950-39ce-49e5-abf8-57cb850aa58c"
      },
      "id": "Qv9BLAgPJSN9",
      "execution_count": null,
      "outputs": [
        {
          "output_type": "stream",
          "name": "stdout",
          "text": [
            "Escreva uma palavra: Hello World\n",
            "H\n",
            "e\n",
            "l\n",
            "l\n",
            "o\n",
            " \n",
            "W\n",
            "o\n",
            "r\n",
            "l\n",
            "d\n"
          ]
        }
      ]
    },
    {
      "cell_type": "markdown",
      "id": "f2e48a7b",
      "metadata": {
        "id": "f2e48a7b"
      },
      "source": [
        "## Exercício 27: Crie um programa que peça um número e imprima sua contagem regressiva até 0."
      ]
    },
    {
      "cell_type": "markdown",
      "id": "1ffc8d99",
      "metadata": {
        "id": "1ffc8d99"
      },
      "source": [
        "## Exercício 28: Crie um programa que solicite 5 números ao usuário e exiba a soma deles."
      ]
    },
    {
      "cell_type": "markdown",
      "id": "603fbc7a",
      "metadata": {
        "id": "603fbc7a"
      },
      "source": [
        "## Exercício 29: Imprima todas as vogais de uma string digitada pelo usuário."
      ]
    },
    {
      "cell_type": "markdown",
      "id": "60f8b06d",
      "metadata": {
        "id": "60f8b06d"
      },
      "source": [
        "## Exercício 30: Crie um programa que peça 5 números e exiba apenas os números pares."
      ]
    },
    {
      "cell_type": "markdown",
      "id": "48c9a395",
      "metadata": {
        "id": "48c9a395"
      },
      "source": [
        "## Exercício 31: Percorra uma lista de frutas e imprima cada uma."
      ]
    },
    {
      "cell_type": "markdown",
      "id": "adb57877",
      "metadata": {
        "id": "adb57877"
      },
      "source": [
        "## Exercício 32: Some todos os números de uma lista."
      ]
    },
    {
      "cell_type": "markdown",
      "id": "03989ca7",
      "metadata": {
        "id": "03989ca7"
      },
      "source": [
        "## Exercício 33: Multiplique cada número de uma lista por 2 e imprima o resultado."
      ]
    },
    {
      "cell_type": "markdown",
      "id": "2f959625",
      "metadata": {
        "id": "2f959625"
      },
      "source": [
        "## Exercício 34: Conte quantas palavras existem em uma lista de palavras."
      ]
    },
    {
      "cell_type": "markdown",
      "id": "32331e7c",
      "metadata": {
        "id": "32331e7c"
      },
      "source": [
        "## Exercício 35: Imprima cada letra de uma palavra separadamente."
      ]
    },
    {
      "cell_type": "markdown",
      "id": "88c43389",
      "metadata": {
        "id": "88c43389"
      },
      "source": [
        "## Exercício 36: Crie uma lista com 5 números e imprima o maior."
      ]
    },
    {
      "cell_type": "markdown",
      "id": "cefe2b8d",
      "metadata": {
        "id": "cefe2b8d"
      },
      "source": [
        "## Exercício 37: Crie uma lista e inverta a ordem dos elementos."
      ]
    },
    {
      "cell_type": "markdown",
      "id": "6f090c30",
      "metadata": {
        "id": "6f090c30"
      },
      "source": [
        "## Exercício 38: Crie uma lista com 5 nomes e remova o último nome."
      ]
    },
    {
      "cell_type": "markdown",
      "id": "494fdd4f",
      "metadata": {
        "id": "494fdd4f"
      },
      "source": [
        "## Exercício 39: Ordene uma lista de números."
      ]
    },
    {
      "cell_type": "markdown",
      "id": "becf6860",
      "metadata": {
        "id": "becf6860"
      },
      "source": [
        "## Exercício 40: Crie uma lista com 5 números e exiba apenas os pares."
      ]
    },
    {
      "cell_type": "markdown",
      "id": "1be545d4",
      "metadata": {
        "id": "1be545d4"
      },
      "source": [
        "## Exercício 41: Crie uma lista e adicione um novo elemento no final."
      ]
    },
    {
      "cell_type": "markdown",
      "id": "e5f49687",
      "metadata": {
        "id": "e5f49687"
      },
      "source": [
        "## Exercício 42: Verifique se um número existe dentro de uma lista."
      ]
    },
    {
      "cell_type": "markdown",
      "id": "c7126906",
      "metadata": {
        "id": "c7126906"
      },
      "source": [
        "## Exercício 43: Crie uma lista de números e calcule a média."
      ]
    },
    {
      "cell_type": "markdown",
      "id": "b3d38297",
      "metadata": {
        "id": "b3d38297"
      },
      "source": [
        "## Exercício 44: Crie uma lista de nomes e converta todos para maiúsculas."
      ]
    },
    {
      "cell_type": "markdown",
      "id": "7217ec03",
      "metadata": {
        "id": "7217ec03"
      },
      "source": [
        "## Exercício 45: Crie uma lista de números e remova os duplicados."
      ]
    },
    {
      "cell_type": "markdown",
      "id": "c508fdb6",
      "metadata": {
        "id": "c508fdb6"
      },
      "source": [
        "## Exercício 46: Crie um dicionário com nomes de alunos e suas notas e exiba a nota de um aluno específico."
      ]
    },
    {
      "cell_type": "markdown",
      "id": "0bfb53d7",
      "metadata": {
        "id": "0bfb53d7"
      },
      "source": [
        "## Exercício 47: Adicione um novo aluno e sua nota a um dicionário."
      ]
    },
    {
      "cell_type": "markdown",
      "id": "366e0034",
      "metadata": {
        "id": "366e0034"
      },
      "source": [
        "## Exercício 48: Remova um aluno do dicionário."
      ]
    },
    {
      "cell_type": "markdown",
      "id": "6dc1e9fa",
      "metadata": {
        "id": "6dc1e9fa"
      },
      "source": [
        "## Exercício 49: Percorra um dicionário e imprima suas chaves e valores."
      ]
    },
    {
      "cell_type": "markdown",
      "id": "5757f1ac",
      "metadata": {
        "id": "5757f1ac"
      },
      "source": [
        "## Exercício 50: Verifique se uma chave existe no dicionário."
      ]
    }
  ],
  "metadata": {
    "colab": {
      "provenance": []
    },
    "language_info": {
      "name": "python"
    },
    "kernelspec": {
      "name": "python3",
      "display_name": "Python 3"
    }
  },
  "nbformat": 4,
  "nbformat_minor": 5
}